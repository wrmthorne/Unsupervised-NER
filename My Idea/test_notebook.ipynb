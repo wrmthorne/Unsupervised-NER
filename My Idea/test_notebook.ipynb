{
 "cells": [
  {
   "cell_type": "markdown",
   "metadata": {},
   "source": [
    "# Unsupervised NER"
   ]
  },
  {
   "cell_type": "code",
   "execution_count": 335,
   "metadata": {},
   "outputs": [],
   "source": [
    "from transformers import RobertaTokenizer, RobertaModel, BertTokenizer, BertModel\n",
    "from kmeans_pytorch import kmeans\n",
    "import json\n",
    "from pprint import pprint\n",
    "import spacy\n",
    "from tqdm import tqdm\n",
    "import torch"
   ]
  },
  {
   "cell_type": "code",
   "execution_count": 2,
   "metadata": {},
   "outputs": [
    {
     "name": "stderr",
     "output_type": "stream",
     "text": [
      "Some weights of the model checkpoint at bert-base-cased were not used when initializing BertModel: ['cls.seq_relationship.bias', 'cls.predictions.transform.LayerNorm.weight', 'cls.predictions.bias', 'cls.seq_relationship.weight', 'cls.predictions.transform.dense.bias', 'cls.predictions.decoder.weight', 'cls.predictions.transform.dense.weight', 'cls.predictions.transform.LayerNorm.bias']\n",
      "- This IS expected if you are initializing BertModel from the checkpoint of a model trained on another task or with another architecture (e.g. initializing a BertForSequenceClassification model from a BertForPreTraining model).\n",
      "- This IS NOT expected if you are initializing BertModel from the checkpoint of a model that you expect to be exactly identical (initializing a BertForSequenceClassification model from a BertForSequenceClassification model).\n"
     ]
    }
   ],
   "source": [
    "model_name = 'bert-base-cased'\n",
    "\n",
    "# tokenizer = RobertaTokenizer.from_pretrained('roberta-base')\n",
    "# model = RobertaModel.from_pretrained('roberta-base', output_hidden_states=True)\n",
    "\n",
    "tokenizer = BertTokenizer.from_pretrained(model_name)\n",
    "model = BertModel.from_pretrained(\"bert-base-cased\", output_hidden_states=True)"
   ]
  },
  {
   "cell_type": "markdown",
   "metadata": {},
   "source": [
    "![image](basic_idea.png)"
   ]
  },
  {
   "cell_type": "markdown",
   "metadata": {},
   "source": [
    "## Import Raw Text Data\n",
    "\n",
    "Import the raw textual data and tag it with spacy NER tags"
   ]
  },
  {
   "cell_type": "code",
   "execution_count": 5,
   "metadata": {},
   "outputs": [],
   "source": [
    "with open('./data/data_text.json', 'r') as file:\n",
    "    data = json.load(file)\n",
    "\n",
    "nlp = spacy.load(\"en_core_web_sm\")"
   ]
  },
  {
   "cell_type": "markdown",
   "metadata": {},
   "source": [
    "As a crude first principle, take every `PROPN`, `NOUN`, `ADJ`, and `NUM` get the tokenized id for each"
   ]
  },
  {
   "cell_type": "code",
   "execution_count": 300,
   "metadata": {},
   "outputs": [
    {
     "name": "stderr",
     "output_type": "stream",
     "text": [
      "Collecting IDs: 100%|██████████| 50138/50138 [00:11<00:00, 4227.01it/s]\n"
     ]
    }
   ],
   "source": [
    "# Split entire corpus into sentences\n",
    "sentences = [s for text in data.values() for s in text.strip().split('. ')]\n",
    "\n",
    "# Tag every sentence with POS tags\n",
    "tagged_sentences = [nlp(s) for s in sentences]\n",
    "\n",
    "tagged_ids = []\n",
    "for sent in tqdm(tagged_sentences, desc='Collecting IDs'):\n",
    "    propns = [tok.text for tok in sent if tok.pos_ in ['PROPN']]\n",
    "    if propns:\n",
    "        # Collects all word and sub-word token ids which have the desired POS tags\n",
    "        # [1:-1] to remove [CLS] and [SEP] tokens\n",
    "        tagged_ids.append([ids_i for ids in [tokenizer.encode(p)[1:-1] for p in propns] for ids_i in ids])\n",
    "    else:\n",
    "        tagged_ids.append([])"
   ]
  },
  {
   "cell_type": "markdown",
   "metadata": {},
   "source": [
    "The extraction of embedding layers is using code from [here](https://mccormickml.com/2019/05/14/BERT-word-embeddings-tutorial/). This algorithm fails if there are multiple instances of the same token but only one is considered a named entity by SpaCy as all tokens with the same tokenised id are found in the encoded text and the contexts derived."
   ]
  },
  {
   "cell_type": "code",
   "execution_count": 332,
   "metadata": {},
   "outputs": [
    {
     "name": "stderr",
     "output_type": "stream",
     "text": [
      "100%|██████████| 50138/50138 [10:08<00:00, 82.36it/s]"
     ]
    },
    {
     "name": "stdout",
     "output_type": "stream",
     "text": [
      "torch.Size([251097, 768])\n",
      "218617\n"
     ]
    },
    {
     "name": "stderr",
     "output_type": "stream",
     "text": [
      "\n"
     ]
    }
   ],
   "source": [
    "device = torch.device('cuda' if torch.cuda.is_available() else 'cpu')\n",
    "\n",
    "model.eval()\n",
    "context_vectors = torch.empty(0, 768).to(device)\n",
    "\n",
    "model.to(device)\n",
    "\n",
    "for sent, ids in tqdm(list(zip(sentences, tagged_ids))):\n",
    "    ids_t = torch.tensor(ids)\n",
    "    enc_sent = tokenizer.encode_plus(sent, return_tensors='pt')\n",
    "    \n",
    "    with torch.no_grad():\n",
    "        outputs = model(enc_sent.input_ids.to(device), enc_sent.attention_mask.to(device))\n",
    "        hidden_states = outputs[2]\n",
    "\n",
    "    # Extract model embeddings layer activations\n",
    "    token_embeddings = torch.stack(hidden_states, dim=0)\n",
    "\n",
    "    # Remove batches dimension\n",
    "    token_embeddings = torch.squeeze(token_embeddings, dim=1)\n",
    "\n",
    "    # Swap layer and token dimensions\n",
    "    token_embeddings = token_embeddings.permute(1, 0, 2)\n",
    "    \n",
    "    # Identify indices within encoded text to calculate context embeddings for\n",
    "    target_indices = (enc_sent.input_ids.T == ids_t).nonzero()\n",
    "\n",
    "    # Use the sum of the last 4 embedding layers as an aggregation of context for the selected indices\n",
    "    stacked_token_embeddings = token_embeddings.repeat(ids_t.size(0), 1, 1, 1)\n",
    "    embedding_aggregate = torch.sum(stacked_token_embeddings[target_indices[:, 1], target_indices[:, 0], -4:], dim=1)\n",
    "\n",
    "    context_vectors = torch.cat((context_vectors, embedding_aggregate))\n",
    "\n",
    "print(context_vectors.shape)\n",
    "print(len([i for id in tagged_ids for i in id]))"
   ]
  },
  {
   "cell_type": "markdown",
   "metadata": {},
   "source": [
    "Cluster context vectors into 4 clusters representing `PERSON`, `LOCATION`, `ORGANISATION`, `MISC`"
   ]
  },
  {
   "cell_type": "code",
   "execution_count": 336,
   "metadata": {},
   "outputs": [
    {
     "name": "stdout",
     "output_type": "stream",
     "text": [
      "running k-means on cuda..\n"
     ]
    },
    {
     "name": "stderr",
     "output_type": "stream",
     "text": [
      "[running kmeans]: 44it [00:42,  1.03it/s, center_shift=0.000051, iteration=44, tol=0.000100]  \n"
     ]
    }
   ],
   "source": [
    "cluster_ids, cluster_centres = kmeans(context_vectors, 4, distance='cosine', device=device)"
   ]
  },
  {
   "cell_type": "code",
   "execution_count": 347,
   "metadata": {},
   "outputs": [
    {
     "name": "stdout",
     "output_type": "stream",
     "text": [
      "In the foreground servants are decanting the miraculous wine, while the man seated next to Mary lifts his hand in astonishment\n",
      "['Mary']\n",
      "tensor([3, 3, 2, 2, 2, 2, 2, 2, 3, 1])\n"
     ]
    }
   ],
   "source": [
    "i = 6\n",
    "print(tagged_sentences[i])\n",
    "print([tok.text for tok in tagged_sentences[i] if tok.pos_ in ['PROPN']])\n",
    "print(cluster_ids[:10])"
   ]
  }
 ],
 "metadata": {
  "kernelspec": {
   "display_name": "Python 3.10.6 ('gatenlp_venv': venv)",
   "language": "python",
   "name": "python3"
  },
  "language_info": {
   "codemirror_mode": {
    "name": "ipython",
    "version": 3
   },
   "file_extension": ".py",
   "mimetype": "text/x-python",
   "name": "python",
   "nbconvert_exporter": "python",
   "pygments_lexer": "ipython3",
   "version": "3.10.6"
  },
  "orig_nbformat": 4,
  "vscode": {
   "interpreter": {
    "hash": "ed9bce70e2f85c08309b76a92bdcd846293a0270c4e50df8d2f5fae8e918b159"
   }
  }
 },
 "nbformat": 4,
 "nbformat_minor": 2
}
