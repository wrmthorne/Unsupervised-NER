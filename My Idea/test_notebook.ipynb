{
 "cells": [
  {
   "cell_type": "markdown",
   "metadata": {},
   "source": [
    "# Unsupervised NER"
   ]
  },
  {
   "cell_type": "code",
   "execution_count": 1,
   "metadata": {},
   "outputs": [],
   "source": [
    "from transformers import RobertaTokenizer, RobertaModel, BertTokenizer, BertModel\n",
    "from kmeans_pytorch import kmeans, kmeans_predict\n",
    "import json\n",
    "from pprint import pprint\n",
    "import spacy\n",
    "from tqdm import tqdm\n",
    "import torch"
   ]
  },
  {
   "cell_type": "code",
   "execution_count": 2,
   "metadata": {},
   "outputs": [
    {
     "name": "stderr",
     "output_type": "stream",
     "text": [
      "Some weights of the model checkpoint at bert-base-cased were not used when initializing BertModel: ['cls.predictions.transform.LayerNorm.weight', 'cls.seq_relationship.bias', 'cls.predictions.transform.dense.bias', 'cls.predictions.transform.dense.weight', 'cls.predictions.transform.LayerNorm.bias', 'cls.seq_relationship.weight', 'cls.predictions.decoder.weight', 'cls.predictions.bias']\n",
      "- This IS expected if you are initializing BertModel from the checkpoint of a model trained on another task or with another architecture (e.g. initializing a BertForSequenceClassification model from a BertForPreTraining model).\n",
      "- This IS NOT expected if you are initializing BertModel from the checkpoint of a model that you expect to be exactly identical (initializing a BertForSequenceClassification model from a BertForSequenceClassification model).\n"
     ]
    }
   ],
   "source": [
    "model_name = 'bert-base-cased'\n",
    "\n",
    "# tokenizer = RobertaTokenizer.from_pretrained('roberta-base')\n",
    "# model = RobertaModel.from_pretrained('roberta-base', output_hidden_states=True)\n",
    "\n",
    "tokenizer = BertTokenizer.from_pretrained(model_name)\n",
    "model = BertModel.from_pretrained(\"bert-base-cased\", output_hidden_states=True)"
   ]
  },
  {
   "cell_type": "markdown",
   "metadata": {},
   "source": [
    "![image](basic_idea.png)"
   ]
  },
  {
   "cell_type": "markdown",
   "metadata": {},
   "source": [
    "## Import Raw Text Data\n",
    "\n",
    "Import the raw textual data and tag it with spacy NER tags"
   ]
  },
  {
   "cell_type": "code",
   "execution_count": 3,
   "metadata": {},
   "outputs": [],
   "source": [
    "with open('./data/data_text.json', 'r') as file:\n",
    "    data = json.load(file)\n",
    "\n",
    "nlp = spacy.load(\"en_core_web_sm\")"
   ]
  },
  {
   "cell_type": "markdown",
   "metadata": {},
   "source": [
    "As a crude first principle, take every `PROPN`, `NOUN`, `ADJ`, and `NUM` get the tokenized id for each"
   ]
  },
  {
   "cell_type": "code",
   "execution_count": 4,
   "metadata": {},
   "outputs": [
    {
     "name": "stderr",
     "output_type": "stream",
     "text": [
      "Collecting IDs: 100%|██████████| 50138/50138 [00:12<00:00, 4008.62it/s]\n"
     ]
    }
   ],
   "source": [
    "# Split entire corpus into sentences\n",
    "sentences = [s for text in data.values() for s in text.strip().split('. ')]\n",
    "\n",
    "# Tag every sentence with POS tags\n",
    "tagged_sentences = [nlp(s) for s in sentences]\n",
    "\n",
    "tagged_ids = []\n",
    "for sent in tqdm(tagged_sentences, desc='Collecting IDs'):\n",
    "    propns = [tok.text for tok in sent if tok.pos_ in ['PROPN']]\n",
    "    if propns:\n",
    "        # Collects all word and sub-word token ids which have the desired POS tags\n",
    "        # [1:-1] to remove [CLS] and [SEP] tokens\n",
    "        tagged_ids.append([ids_i for ids in [tokenizer.encode(p)[1:-1] for p in propns] for ids_i in ids])\n",
    "    else:\n",
    "        tagged_ids.append([])"
   ]
  },
  {
   "cell_type": "markdown",
   "metadata": {},
   "source": [
    "The extraction of embedding layers is using code from [here](https://mccormickml.com/2019/05/14/BERT-word-embeddings-tutorial/). This algorithm fails if there are multiple instances of the same token but only one is considered a named entity by SpaCy as all tokens with the same tokenised id are found in the encoded text and the contexts derived."
   ]
  },
  {
   "cell_type": "code",
   "execution_count": 5,
   "metadata": {},
   "outputs": [
    {
     "name": "stderr",
     "output_type": "stream",
     "text": [
      "100%|██████████| 50138/50138 [09:54<00:00, 84.34it/s]"
     ]
    },
    {
     "name": "stdout",
     "output_type": "stream",
     "text": [
      "torch.Size([251097, 768])\n",
      "218617\n"
     ]
    },
    {
     "name": "stderr",
     "output_type": "stream",
     "text": [
      "\n"
     ]
    }
   ],
   "source": [
    "device = torch.device('cuda' if torch.cuda.is_available() else 'cpu')\n",
    "\n",
    "model.eval()\n",
    "context_vectors = torch.empty(0, 768).to(device)\n",
    "\n",
    "model.to(device)\n",
    "\n",
    "for sent, ids in tqdm(list(zip(sentences, tagged_ids))):\n",
    "    ids_t = torch.tensor(ids)\n",
    "    enc_sent = tokenizer.encode_plus(sent, return_tensors='pt')\n",
    "    \n",
    "    with torch.no_grad():\n",
    "        outputs = model(enc_sent.input_ids.to(device), enc_sent.attention_mask.to(device))\n",
    "        hidden_states = outputs[2]\n",
    "\n",
    "    # Extract model embeddings layer activations\n",
    "    token_embeddings = torch.stack(hidden_states, dim=0)\n",
    "\n",
    "    # Remove batches dimension\n",
    "    token_embeddings = torch.squeeze(token_embeddings, dim=1)\n",
    "\n",
    "    # Swap layer and token dimensions\n",
    "    token_embeddings = token_embeddings.permute(1, 0, 2)\n",
    "    \n",
    "    # Identify indices within encoded text to calculate context embeddings\n",
    "    target_indices = (enc_sent.input_ids.T == ids_t).nonzero()\n",
    "\n",
    "    # Use the sum of the last 4 embedding layers as an aggregation of context for the selected indices\n",
    "    stacked_token_embeddings = token_embeddings.repeat(ids_t.size(0), 1, 1, 1)\n",
    "    embedding_aggregate = torch.sum(stacked_token_embeddings[target_indices[:, 1], target_indices[:, 0], -4:], dim=1)\n",
    "\n",
    "    context_vectors = torch.cat((context_vectors, embedding_aggregate))\n",
    "\n",
    "print(context_vectors.shape)\n",
    "print(len([i for id in tagged_ids for i in id]))"
   ]
  },
  {
   "cell_type": "markdown",
   "metadata": {},
   "source": [
    "Cluster context vectors into 4 clusters representing `PERSON`, `LOCATION`, `ORGANISATION`, `MISC`"
   ]
  },
  {
   "cell_type": "code",
   "execution_count": 6,
   "metadata": {},
   "outputs": [
    {
     "name": "stdout",
     "output_type": "stream",
     "text": [
      "running k-means on cuda..\n"
     ]
    },
    {
     "name": "stderr",
     "output_type": "stream",
     "text": [
      "[running kmeans]: 84it [01:15,  1.12it/s, center_shift=0.000057, iteration=84, tol=0.000100]  \n"
     ]
    }
   ],
   "source": [
    "cluster_ids, cluster_centres = kmeans(context_vectors, 3, distance='cosine', device=device)"
   ]
  },
  {
   "cell_type": "code",
   "execution_count": 7,
   "metadata": {},
   "outputs": [
    {
     "name": "stdout",
     "output_type": "stream",
     "text": [
      "In the centre of the composition an exquisite goblet is held out by the steward, into which a black servant pours a golden liquid\n",
      "[]\n",
      "tensor([0, 0, 0, 0, 0, 0, 0, 0, 0, 1])\n"
     ]
    }
   ],
   "source": [
    "i = 7\n",
    "print(tagged_sentences[i])\n",
    "print([tok.text for tok in tagged_sentences[i] if tok.pos_ in ['PROPN']])\n",
    "print(cluster_ids[:10])"
   ]
  },
  {
   "cell_type": "code",
   "execution_count": 20,
   "metadata": {},
   "outputs": [
    {
     "name": "stdout",
     "output_type": "stream",
     "text": [
      "The group on the left – the bride and groom, the dog, the servant with his back to the viewer and the boy holding the glass – are all inspired by Veronese’s large-scale Marriage at Cana (Louvre, Paris), though transformed under the influence of Caravaggio and Ribera\n",
      "[159, 28032, 6420, 2825, 1161, 10111, 9699, 2123, 16185, 2497, 21541, 155, 24851, 1161]\n",
      "predicting on cuda..\n",
      "['Veronese', 'Cana', 'Louvre', 'Paris', 'Caravaggio', 'Ribera']\n",
      "tensor([1, 1, 1, 1, 1, 1, 2, 0, 2, 1, 1, 1, 1, 1, 1, 1])\n",
      "[1, 1, 1, 1, 1, 1, 2, 0, 2, 1, 1, 1, 1, 1, 1, 1]\n",
      "[('Veronese', [1, 1, 1]),\n",
      " ('Cana', [1, 1]),\n",
      " ('Louvre', [1, 2]),\n",
      " ('Paris', [0]),\n",
      " ('Caravaggio', [2, 1, 1]),\n",
      " ('Ribera', [1, 1, 1])]\n"
     ]
    }
   ],
   "source": [
    "i = 14\n",
    "\n",
    "test_sent = sentences[i]\n",
    "tagged_test_sent = nlp(test_sent)\n",
    "propns = [tok.text for tok in tagged_test_sent if tok.pos_ in ['PROPN']]\n",
    "test_sent_ids = [ids_i for ids in [tokenizer.encode(p)[1:-1] for p in propns] for ids_i in ids]\n",
    "\n",
    "enc_sent = tokenizer.encode_plus(test_sent, return_tensors='pt')\n",
    "\n",
    "ids_t = torch.tensor(test_sent_ids)\n",
    "model.to(device)\n",
    "with torch.no_grad():\n",
    "    outputs = model(enc_sent.input_ids.to(device), enc_sent.attention_mask.to(device))\n",
    "    hidden_states = outputs[2]\n",
    "\n",
    "# Extract model embeddings layer activations\n",
    "token_embeddings = torch.stack(hidden_states, dim=0)\n",
    "\n",
    "# Remove batches dimension\n",
    "token_embeddings = torch.squeeze(token_embeddings, dim=1)\n",
    "\n",
    "# Swap layer and token dimensions\n",
    "token_embeddings = token_embeddings.permute(1, 0, 2)\n",
    "\n",
    "# Identify indices within encoded text to calculate context embeddings\n",
    "target_indices = (enc_sent.input_ids.T == ids_t).nonzero()\n",
    "\n",
    "# Use the sum of the last 4 embedding layers as an aggregation of context for the selected indices\n",
    "stacked_token_embeddings = token_embeddings.repeat(ids_t.size(0), 1, 1, 1)\n",
    "embedding_aggregate = torch.sum(stacked_token_embeddings[target_indices[:, 1], target_indices[:, 0], -4:], dim=1)\n",
    "\n",
    "# Hacky solution to allow single entity tensors to be classified\n",
    "if embedding_aggregate.size(0) == 1:\n",
    "    embedding_aggregate = embedding_aggregate.repeat(2, 1)\n",
    "\n",
    "clusters = kmeans_predict(embedding_aggregate, cluster_centres, device=device, distance='cosine')\n",
    "\n",
    "tok_thing = [tok.text for tok in tagged_test_sent if tok.pos_ in ['PROPN']]\n",
    "indices = [len(tokenizer.encode(tok.text)[1:-1]) for tok in tagged_test_sent if tok.pos_ in ['PROPN']]\n",
    "\n",
    "print(tok_thing)\n",
    "print(clusters)\n",
    "clusters_list =  clusters.tolist()\n",
    "print(clusters_list)\n",
    "thing = [(tok_thing[i], [clusters_list.pop(0) for _ in range(length)]) for i, length in enumerate(indices)]\n",
    "\n",
    "pprint(thing)"
   ]
  },
  {
   "cell_type": "markdown",
   "metadata": {},
   "source": [
    "# Next Steps\n",
    "\n",
    "1) Subword-token aggregation when calculating context vectors\n",
    "2) Getting generic context vector instead of word based context vector\n",
    "3) Multi-word token aggregation for single entity context vector\n",
    "4) Different aggregation techniques"
   ]
  }
 ],
 "metadata": {
  "kernelspec": {
   "display_name": "Python 3.10.6 64-bit",
   "language": "python",
   "name": "python3"
  },
  "language_info": {
   "codemirror_mode": {
    "name": "ipython",
    "version": 3
   },
   "file_extension": ".py",
   "mimetype": "text/x-python",
   "name": "python",
   "nbconvert_exporter": "python",
   "pygments_lexer": "ipython3",
   "version": "3.10.6"
  },
  "orig_nbformat": 4,
  "vscode": {
   "interpreter": {
    "hash": "916dbcbb3f70747c44a77c7bcd40155683ae19c65e1c03b4aa3499c5328201f1"
   }
  }
 },
 "nbformat": 4,
 "nbformat_minor": 2
}
